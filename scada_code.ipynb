{
 "cells": [
  {
   "cell_type": "code",
   "execution_count": null,
   "metadata": {},
   "outputs": [],
   "source": [
    "import pandas as pd\n",
    "from datetime import datetime\n",
    "import numpy as np"
   ]
  },
  {
   "attachments": {},
   "cell_type": "markdown",
   "metadata": {},
   "source": [
    "# STATION "
   ]
  },
  {
   "attachments": {},
   "cell_type": "markdown",
   "metadata": {},
   "source": [
    "Description: This script takes in a file named Station.csv(default) , recognizes its information and interprets the columns. Finally prints and save a Dat format file with the predefined tables for further processing"
   ]
  },
  {
   "attachments": {},
   "cell_type": "markdown",
   "metadata": {},
   "source": [
    "Station Data Conversion REFERENCE : \n",
    "\n",
    "ORDER : Padded with incremental index numbering\n",
    "\n",
    "Key : Column \"Name\" in Station.csv  . Erased blank spaces.('Example_ _')\n",
    "\n",
    "Name : Column \"Desc\" in Station.csv . Erased blank spaces.('Example_ _')\n",
    "\n",
    "AOR : Column Zones in Station.csv. "
   ]
  },
  {
   "attachments": {},
   "cell_type": "markdown",
   "metadata": {},
   "source": [
    "The .str.rstrip() method is widely used since many fields (almost all of them) have their value ending with two blank spaces."
   ]
  },
  {
   "cell_type": "code",
   "execution_count": null,
   "metadata": {},
   "outputs": [],
   "source": [
    "#Input Filename (default = Station.csv)\n",
    "InputStationFile = \"Station.csv\""
   ]
  },
  {
   "cell_type": "code",
   "execution_count": null,
   "metadata": {},
   "outputs": [],
   "source": [
    "df = pd.read_csv(InputStationFile, skipinitialspace=True)\n",
    "df.columns = df.columns.str.strip()\n",
    "\n",
    "df_output = pd.DataFrame()\n",
    "df_output['Order'] = range(len(df)) # Order column was not  specified in documentation. So in default is a unique incremental index.\n",
    "df_output['Key'] = '\"'+ df['Name'].str.rstrip() + '\"'  \n",
    "df_output['Name'] = '\"' + df['Desc'].str.rstrip() + '\"' \n",
    "df_output['AOR'] = df['Zones']\n",
    "\n",
    "#sorting\n",
    "df_output = df_output[['Order', 'Key', 'Name', 'AOR']]\n",
    "df_station = df_output\n",
    "\n",
    "#verification\n",
    "print(df_station)"
   ]
  },
  {
   "attachments": {},
   "cell_type": "markdown",
   "metadata": {},
   "source": [
    "# Select Output name: (default: StationOutput.dat)"
   ]
  },
  {
   "cell_type": "code",
   "execution_count": null,
   "metadata": {},
   "outputs": [],
   "source": [
    "#Output:\n",
    "stationfilename = \"StationOutput.dat\""
   ]
  },
  {
   "cell_type": "code",
   "execution_count": null,
   "metadata": {},
   "outputs": [],
   "source": [
    "now = datetime.now().strftime(\"%d/%m/%Y %H:%M:%S\")\n",
    "with open(stationfilename, 'w') as f:\n",
    "    f.write(\"*\\n\")\n",
    "    f.write(\"****************************************************************\\n\")\n",
    "    f.write(f\"*  Creation Date/Time:  {now}\\n\")\n",
    "    f.write(\"****************************************************************\\n\")\n",
    "    f.write(\"*             Order  Key             Name                AOR\\n\")\n",
    "    f.write(\"*             ----  -----   --------------------------   ---\\n\")\n",
    "    f.write(\"*  2 STATION   0     3             4                      13\\n\")\n",
    "    f.write(\"*---------------------------------------------------------------\\n\")\n",
    "\n",
    "    for index, row in df_station.iterrows():\n",
    "        f.write(\"{:<5}{:<5}{:<5}{:<5}{:<8}{:<30}{:<6}\\n\".format\n",
    "                (\"\", row['Order'],\"\", row['Order'], row['Key'], row['Name'], row['AOR']))"
   ]
  },
  {
   "attachments": {},
   "cell_type": "markdown",
   "metadata": {},
   "source": [
    "# END STATION"
   ]
  },
  {
   "attachments": {},
   "cell_type": "markdown",
   "metadata": {},
   "source": [
    "--------------------------------------------------"
   ]
  },
  {
   "attachments": {},
   "cell_type": "markdown",
   "metadata": {},
   "source": [
    "# STATUS"
   ]
  },
  {
   "attachments": {},
   "cell_type": "markdown",
   "metadata": {},
   "source": [
    "Description: This script takes in a file named Status.csv(default) , recognizes its information and interprets the columns. Finally prints and save a Dat format file with the predefined tables for further processing"
   ]
  },
  {
   "attachments": {},
   "cell_type": "markdown",
   "metadata": {},
   "source": [
    "Station Data Conversion REFERENCE : \n",
    "\n",
    "(1)Type : ( \n",
    "       \n",
    "            If column \"Telem_A\" in status.csv = empty. C_IND.   Type = 5\n",
    "\n",
    "            If column \"Telem_A\" in status.csv = any number. T_IND.  Type = 1\n",
    "            \n",
    "            If column \"Open_B\" in status.csv = 12.  T_I&C.     Type = 2  ) \n",
    "                Criteria: only 42 rows (0,49%) has Open_B= 12.\n",
    "                        so its gonna be Type = 2 regardless the value of Telem_A, \n",
    "                        giving priority to Open_B.\n",
    "                        (In evey case of Open_B=12, Telem_A showed a number also)\n",
    "              \n",
    "              Edited:  IF column Stn = 054 (PS. PSEUDO POINTS) , M_IND. Type = 8 \n",
    "\n",
    "(3)Key : Format XXYYYZZZ\n",
    "                         XX =   If type (descripted before) = 1 , XX = 01\n",
    "                                If type (descripted before) = 2 , XX = 01\n",
    "                                If type (descripted before) = 5 , XX = 02\n",
    "                                If type (descripted before) = 8 , XX = 12\n",
    "                         YYY = Stn (Station Order number.)(descripted in this Markdown)\n",
    "                         ZZZ = Incremental number per station\n",
    "\n",
    "(4)Name : Column \"Name\" + column \"Desc\" in Status.csv. Replace the commas (,) with blank spaces.\n",
    "\n",
    "(5) Stn : (XXX) -> The first characters of the \"Name\" column in the current dataset, before the comma (,), reference the value of the KEY column in the previous dataset (Station). This value is based on the Order column. This number should be expressed in three digits (e.g., 38 = 038).\n",
    "\n",
    "(10) Aor : Column \"Zones\" in Status.csv\n",
    "\n",
    "(19) pState : Column \"Presuffx\" in Status.csv\n",
    "\n",
    "(49) Norm : Column \"Normal_State\" in Status.csv\n",
    "\n",
    "(29) AlarmGroup: Will be set to 1 unless defined in mapping document\n",
    "\n",
    "(41) ICAddress : Refer to documentation. This script leaves it in blank"
   ]
  },
  {
   "cell_type": "code",
   "execution_count": null,
   "metadata": {},
   "outputs": [],
   "source": [
    "#Input filename(default: \"Status.csv\")\n",
    "InputStatusFile = \"Status.csv\""
   ]
  },
  {
   "cell_type": "code",
   "execution_count": null,
   "metadata": {},
   "outputs": [],
   "source": [
    "status_df = pd.read_csv(InputStatusFile)\n",
    "df_status = pd.DataFrame()"
   ]
  },
  {
   "cell_type": "code",
   "execution_count": null,
   "metadata": {},
   "outputs": [],
   "source": [
    "df_status['Type'] = np.where(status_df['Open_B  '] == '12  ', 2, np.where(status_df['Telem_A  '].replace('  ', np.nan).notna(), 1, 5))\n",
    "df_status['Name'] = status_df['Name  '].str.replace(',',' ') + \" \" + status_df['Desc  ']\n",
    "df_status['Name'] = df_status['Name'].str.rstrip()\n",
    "df_status['AOR'] = status_df['Zones  '].str.rstrip()\n",
    "df_status['pState'] = status_df['PreSuffx  ']\n",
    "df_status['Norm'] = status_df['Normal_State  ']\n",
    "df_status['AlarmGroup'] = 1\n",
    "df_status['ICAddress'] = np.nan"
   ]
  },
  {
   "cell_type": "code",
   "execution_count": null,
   "metadata": {},
   "outputs": [],
   "source": [
    "df_status"
   ]
  },
  {
   "attachments": {},
   "cell_type": "markdown",
   "metadata": {},
   "source": [
    "# Stn :"
   ]
  },
  {
   "attachments": {},
   "cell_type": "markdown",
   "metadata": {},
   "source": [
    "This code strips the Name column in status and search the matching row Key in Station Dataframe\n",
    "then, it reads the Order column value and assign this to the Stn column"
   ]
  },
  {
   "cell_type": "code",
   "execution_count": null,
   "metadata": {},
   "outputs": [],
   "source": [
    "status_df['Key'] = status_df['Name  '].str.split(',').str[0].str.strip()  # make sure no blank spaces are in the begin & end of the name\n",
    "df_station['Key'] = df_station['Key'].str.replace('\"', '')\n",
    "stn_values = []  #list for store stn values"
   ]
  },
  {
   "cell_type": "code",
   "execution_count": null,
   "metadata": {},
   "outputs": [],
   "source": [
    "for i in range(len(status_df)):\n",
    "    matching_row = df_station[df_station['Key'] == status_df.loc[i, 'Key']]\n",
    "    if not matching_row.empty:\n",
    "        stn_values.append(f\"{matching_row['Order'].values[0]:03}\")\n",
    "    else:\n",
    "        stn_values.append(np.nan)\n",
    "df_status['Stn'] = stn_values"
   ]
  },
  {
   "cell_type": "code",
   "execution_count": null,
   "metadata": {},
   "outputs": [],
   "source": [
    "df_status"
   ]
  },
  {
   "attachments": {},
   "cell_type": "markdown",
   "metadata": {},
   "source": [
    "Replacement case: Pseudo Points.\n",
    "IF stn = 054 (PS. Pseudo points.) Set type to 8 .   And then set XX Value to 12"
   ]
  },
  {
   "cell_type": "code",
   "execution_count": null,
   "metadata": {},
   "outputs": [],
   "source": [
    "df_status.loc[df_status['Name'].str.startswith(\"PS\"), 'Type'] = 8\n",
    "\n",
    "for i in range(len(df_status)):\n",
    "    if df_status.loc[i, 'Stn'] == '054':\n",
    "        key_to_search = df_status.loc[i, 'Name'][3:5]\n",
    "\n",
    "        # Buscar valor \n",
    "        matching_row = df_station[df_station['Key'] == key_to_search]\n",
    "\n",
    "        # != una fila correspondiente, 'Stn' en 'df_status'\n",
    "        if not matching_row.empty:\n",
    "            df_status.loc[i, 'Stn'] = f\"{matching_row['Order'].values[0]:03}\""
   ]
  },
  {
   "attachments": {},
   "cell_type": "markdown",
   "metadata": {},
   "source": [
    "# KEY"
   ]
  },
  {
   "cell_type": "code",
   "execution_count": null,
   "metadata": {},
   "outputs": [],
   "source": [
    "key_values = []\n",
    "xx_yyy_counters = {}  # creating a dict to store and count every YYY. It's used for a incremental ZZZ"
   ]
  },
  {
   "cell_type": "code",
   "execution_count": null,
   "metadata": {},
   "outputs": [],
   "source": [
    "for i in range(len(df_status)):\n",
    "    \n",
    "    if df_status.loc[i, 'Type'] == 1:\n",
    "        xx = '01'\n",
    "    elif df_status.loc[i, 'Type'] == 2:\n",
    "        xx = '01'\n",
    "    elif df_status.loc[i, 'Type'] == 5:\n",
    "        xx = '05'\n",
    "    elif df_status.loc[i, 'Type'] == 8:\n",
    "        xx = '12'\n",
    "    else:\n",
    "        xx = '99'  # ERROR CASE . In case of being unable to find a coincidence.\n",
    "\n",
    "    yyy = df_status.loc[i, 'Stn']\n",
    "\n",
    "    # combination\n",
    "    key = xx + yyy\n",
    "\n",
    "    # if key exists in counters, then add +1 , else, initialites it.\n",
    "    if key in xx_yyy_counters:\n",
    "        xx_yyy_counters[key] += 1\n",
    "    else:\n",
    "        xx_yyy_counters[key] = 1\n",
    "\n",
    "    #   Current Value of ZZZ . \n",
    "    zz = f\"{xx_yyy_counters[key]:03}\"  #03 (Default). the number of Z in the format (default XX YYY ZZZ (3 Z))\n",
    "\n",
    "    key_values.append(xx + yyy + zz)\n"
   ]
  },
  {
   "cell_type": "code",
   "execution_count": null,
   "metadata": {},
   "outputs": [],
   "source": [
    "df_status['Key'] = key_values"
   ]
  },
  {
   "cell_type": "code",
   "execution_count": null,
   "metadata": {},
   "outputs": [],
   "source": [
    "#obtaining and showing the counting of Types.\n",
    "type_counts = df_status['Type'].value_counts()\n",
    "print(type_counts)"
   ]
  },
  {
   "cell_type": "code",
   "execution_count": null,
   "metadata": {},
   "outputs": [],
   "source": [
    "new_order = ['Type','Key','Name','Stn','AOR','pState','Norm','AlarmGroup','ICAddress']\n",
    "df_status = df_status[new_order]"
   ]
  },
  {
   "cell_type": "code",
   "execution_count": null,
   "metadata": {},
   "outputs": [],
   "source": [
    "df_status"
   ]
  },
  {
   "attachments": {},
   "cell_type": "markdown",
   "metadata": {},
   "source": [
    "# DATASET Status ready."
   ]
  },
  {
   "attachments": {},
   "cell_type": "markdown",
   "metadata": {},
   "source": [
    "# OUTPUT TO DAT FILE :"
   ]
  },
  {
   "cell_type": "code",
   "execution_count": null,
   "metadata": {},
   "outputs": [],
   "source": [
    "output_status_name = 'StatusOutput.dat'"
   ]
  },
  {
   "cell_type": "code",
   "execution_count": null,
   "metadata": {},
   "outputs": [],
   "source": [
    "#Width definition. \n",
    "indent_format = \"{:<10}\"  # Initial TAB\n",
    "indent2 = \"{:1}\"\n",
    "type_format = \"{:<6}\"\n",
    "key_format = \"{:<8}\"\n",
    "name_format = \"{:<37}\"\n",
    "stn_format = \"{:<6}\"\n",
    "aor_format = \"{:<16}\"\n",
    "pstate_format = \"{:<9}\"\n",
    "norm_format = \"{:<7}\"\n",
    "alarmgroup_format = \"{:<13}\"\n",
    "icaddress_format = \"{:<20}\"\n",
    "\n",
    "\n",
    "with open(output_status_name, 'w') as f:\n",
    "    f.write('*         Type  Key          Name                                      Stn   AOR               pState   Norm   AlarmGroup   ICAddress\\n')\n",
    "    f.write('*         ----  ---          ----                                      ---   ---               ------   ----   ----------   ---------\\n')\n",
    "    f.write('4 STATUS  (1)   (3)          (4)                                       (5)   (10)              (19)     (49)   (29)         (41)\\n')\n",
    "\n",
    "    for i in range(len(df_status)):\n",
    "        f.write(indent_format.format('') + \n",
    "                type_format.format(df_status.loc[i, 'Type']) +\n",
    "                \"\\\"\" + key_format.format(df_status.loc[i, 'Key']) + \"\\\"\" +\n",
    "                indent2.format('') + \n",
    "                indent2.format('') + \n",
    "                indent2.format('') + \n",
    "                \"\\\"\" + name_format.format(df_status.loc[i, 'Name']) + \"\\\"\" +\n",
    "                indent2.format('')+\n",
    "                indent2.format('') + \n",
    "                indent2.format('') + \n",
    "                stn_format.format(df_status.loc[i, 'Stn']) +\n",
    "                aor_format.format(df_status.loc[i, 'AOR']) + \n",
    "                indent2.format('')+\n",
    "                indent2.format('') + \n",
    "                pstate_format.format(df_status.loc[i, 'pState']) +\n",
    "                norm_format.format(df_status.loc[i, 'Norm']) +\n",
    "                alarmgroup_format.format(df_status.loc[i, 'AlarmGroup']) +\n",
    "                icaddress_format.format(df_status.loc[i, 'ICAddress']) + '\\n')\n"
   ]
  },
  {
   "attachments": {},
   "cell_type": "markdown",
   "metadata": {},
   "source": [
    "# END STATUS"
   ]
  },
  {
   "attachments": {},
   "cell_type": "markdown",
   "metadata": {},
   "source": [
    "-------------------------------"
   ]
  },
  {
   "attachments": {},
   "cell_type": "markdown",
   "metadata": {},
   "source": [
    "# ANALOG"
   ]
  },
  {
   "attachments": {},
   "cell_type": "markdown",
   "metadata": {},
   "source": [
    "Description: This script takes in a file named Analog.csv(default) , recognizes its information and interprets the columns. Finally prints and save a Dat format file with the predefined tables for further processing"
   ]
  },
  {
   "attachments": {},
   "cell_type": "markdown",
   "metadata": {},
   "source": [
    "ANALOG Data conversion REFERENCE :\n",
    "\n",
    " Type (1) :  Columns : \n",
    " \n",
    "                        IF Telem_B  !=  21  . T_ANLG  = type : 1\n",
    "\n",
    "                        IF Telem_RTU = blank .   C_ANLG =  Type : 2\n",
    "\n",
    "                        IF NOT Defined. Manual = Type: 3 \n",
    "\n",
    "                        * CRITERIA: 100% of the Telem_B column is different from 21, while 40% of the Telem_RTU column is blank. To prioritize visibility of Telem_RTU in case of conflict, the priority will be given to C_ANLG (Type 2).\n",
    "\n",
    "Key (3)   :  XX YYY ZZZ\n",
    "\n",
    "Name (4)  :  Columns : Name + Desc . \n",
    "                If not defined, set to KEY \n",
    "\n",
    "Stn (5)   :  ###  -> The first characters of the \"Name\" column in the current dataset, before the comma (,), reference the value of the KEY column in the Station dataset. This value has a number based on the Order column. This number should be expressed in three digits (e.g., 38 = 038).\n",
    "\n",
    "AOR (10)  :   Column Zones in Analog.csv\n",
    "\n",
    "pScale (24): Column EU_HI in Analog.csv\n",
    "\n",
    "AlarmGrp  (42)  :  Set to default: 1\n",
    "\n",
    "ICAddress (66)  : It will be declared as NaN.\n",
    "\n",
    "NominalHiLimits (77,4):  column Alm_unrHi in Analog.csv , named in this df:  Nominal_HiLim\n",
    " *Edited:  NominalHiLimits (77:4): RENAMED TO HiLim[1]  (Rsnblty)\n",
    "\n",
    "NominalLowLimits (78,4):  column Alm_unrLo in Analog.csv  , named in this df: Nominal_LoLim\n",
    " *Edited: RENAMED TO LoLim[1]   (Rsnblty)\n",
    "\n",
    " ADDED:NominalHiLimits (77:0-3): Column Alm_preHi in Analog.csv, named in this df: HiLim[0]    (High)\n",
    " ADDED:NominalLowLimits (78:0-3): Colum Aim_preLo in Analog.csv, named in this df: LoLim[0]    (Low)\n",
    " \n",
    "    \n",
    "   "
   ]
  },
  {
   "cell_type": "code",
   "execution_count": null,
   "metadata": {},
   "outputs": [],
   "source": [
    "#Data CSV Name entry\n",
    "analog_file = \"Analog.csv\""
   ]
  },
  {
   "cell_type": "code",
   "execution_count": null,
   "metadata": {},
   "outputs": [],
   "source": [
    "df_analog = pd.read_csv(analog_file)\n",
    "\n",
    "df_new = pd.DataFrame()\n",
    "\n",
    "\n",
    "conditions = [\n",
    "    (df_analog['Telem_RTU  '] == \"  \"),\n",
    "    (df_analog['Telem_B  '] != \"21  \")\n",
    "]\n",
    "choices = [1, 2]\n",
    "df_new['Type'] = np.select(conditions, choices, default=3)\n",
    "\n",
    "df_new['Name'] = df_analog['Name  '].str.replace(',',' ') + \" \" + df_analog['Desc  ']\n",
    "df_new['AOR'] = df_analog['Zones  ']\n",
    "df_new['AlarmGrp'] = 1\n",
    "df_new['ICAddress'] = \"NaN\"\n",
    "\n",
    "\n",
    "#df_new['Nominal_HiLim'] = df_analog['Alm_unrHi  '] #HiLim[0] -> Rsnblty\n",
    "#df_new['Nominal_LoLim'] = df_analog['Alm_unrLo  '] #LoLim[0] -> Rsnblty\n",
    "\n",
    "#edited\n",
    "#----\n",
    "#df_new['Nominal_HiLim1'] = df_analog['Alm_preHi  '] #HiLim[1] -> High\n",
    "#df_new['Nominal_LoLim1'] = df_analog['Alm_preLo  '] #LoLim[1] -> Low\n",
    "############\n",
    "############\n",
    "\n"
   ]
  },
  {
   "cell_type": "code",
   "execution_count": null,
   "metadata": {},
   "outputs": [],
   "source": [
    "\n",
    "# Convierte a float, convirtiendo errores a NaN\n",
    "df_copy = df_analog.copy()\n",
    "\n",
    "# Función para convertir '0  ' o '  ' en 0\n",
    "def convert_zero(val):\n",
    "    return 0 if val == '0  ' or val == '  ' else val\n",
    "\n",
    "# Aplicar la función a todo el DataFrame\n",
    "df_copy = df_copy.applymap(convert_zero)\n",
    "\n",
    "# Convierte a float, convirtiendo errores a NaN\n",
    "df_copy['Alm_unrHi  '] = pd.to_numeric(df_copy['Alm_unrHi  '], errors='coerce')\n",
    "df_copy['Alm_unrLo  '] = pd.to_numeric(df_copy['Alm_unrLo  '], errors='coerce')\n",
    "df_copy['Alm_preHi  '] = pd.to_numeric(df_copy['Alm_preHi  '], errors='coerce')\n",
    "df_copy['Alm_preLo  '] = pd.to_numeric(df_copy['Alm_preLo  '], errors='coerce')\n",
    "\n",
    "# Luego reemplaza los valores basados en las condiciones\n",
    "df_copy.loc[df_copy['Alm_unrHi  '] == 0.0, 'Alm_unrHi  '] = 999999.0\n",
    "df_copy.loc[df_copy['Alm_unrLo  '] == 0.0, 'Alm_unrLo  '] = -999999.0\n",
    "\n",
    "# Para Alm_preHi y Alm_preLo, necesitamos considerar dos condiciones:\n",
    "df_copy.loc[(df_copy['Alm_unrLo  '].notna()) & (df_copy['Alm_unrLo  '] != -999999.0), 'Alm_preHi  '] = 999998.0\n",
    "df_copy.loc[(df_copy['Alm_unrHi  '].notna()) & (df_copy['Alm_unrHi  '] != 999999.0), 'Alm_preLo  '] = -999998.0\n",
    "\n",
    "\n",
    "df_new['Nominal_HiLim'] = df_copy['Alm_unrHi  '] \n",
    "df_new['Nominal_LoLim'] = df_copy['Alm_unrLo  ']\n",
    "df_new['Nominal_HiLim1'] = df_copy['Alm_preHi  '] \n",
    "df_new['Nominal_LoLim1'] = df_copy['Alm_preLo  ']\n",
    "#----\n",
    "\n",
    "\n",
    "def keep_decimal_precision(val):\n",
    "    try:\n",
    "        float_val = float(val)\n",
    "        if float_val.is_integer():\n",
    "            return str(int(float_val))\n",
    "        else:\n",
    "            return str(float_val)\n",
    "    except ValueError:\n",
    "        return val\n",
    "\n",
    "df_analog['EU_Hi  '] = df_analog['EU_Hi  '].apply(keep_decimal_precision)\n",
    "df_new['pScale EU_Hi'] = df_analog['EU_Hi  ']\n",
    "\n",
    "df_copy['Alm_unrHi  '] = df_copy['Alm_unrHi  '].apply(keep_decimal_precision)\n",
    "df_copy['Alm_unrLo  '] = df_copy['Alm_unrLo  '].apply(keep_decimal_precision)\n",
    "df_copy['Alm_preHi  '] = df_copy['Alm_preHi  '].apply(keep_decimal_precision)\n",
    "df_copy['Alm_preLo  '] = df_copy['Alm_preLo  '].apply(keep_decimal_precision)\n",
    "\n",
    "\n",
    "df_new['Nominal_HiLim'] = df_copy['Alm_unrHi  '] \n",
    "df_new['Nominal_LoLim'] = df_copy['Alm_unrLo  ']\n",
    "df_new['Nominal_HiLim1'] = df_copy['Alm_preHi  '] \n",
    "df_new['Nominal_LoLim1'] = df_copy['Alm_preLo  ']\n",
    "\n"
   ]
  },
  {
   "cell_type": "code",
   "execution_count": null,
   "metadata": {},
   "outputs": [],
   "source": [
    "df_new"
   ]
  },
  {
   "attachments": {},
   "cell_type": "markdown",
   "metadata": {},
   "source": [
    "# STN "
   ]
  },
  {
   "cell_type": "code",
   "execution_count": null,
   "metadata": {},
   "outputs": [],
   "source": [
    "df_analog['Key'] = df_analog['Name  '].str.split(',').str[0].str.strip()\n",
    "\n",
    "stn_values = []\n",
    "\n",
    "for i in range(len(df_analog)):\n",
    "    \n",
    "    matching_row = df_station[df_station['Key'] == df_analog.loc[i, 'Key']]\n",
    "    \n",
    "    if not matching_row.empty:\n",
    "        stn_values.append(f\"{matching_row['Order'].values[0]:03}\")\n",
    "    else:\n",
    "        stn_values.append(np.nan)\n",
    "df_new['Stn'] = stn_values"
   ]
  },
  {
   "cell_type": "code",
   "execution_count": null,
   "metadata": {},
   "outputs": [],
   "source": [
    "df_new"
   ]
  },
  {
   "attachments": {},
   "cell_type": "markdown",
   "metadata": {},
   "source": [
    "# KEY"
   ]
  },
  {
   "cell_type": "code",
   "execution_count": null,
   "metadata": {},
   "outputs": [],
   "source": [
    "key_values = []\n",
    "xx_yyy_counters = {}"
   ]
  },
  {
   "cell_type": "code",
   "execution_count": null,
   "metadata": {},
   "outputs": [],
   "source": [
    "for i in range(len(df_new)):\n",
    "    \n",
    "    # Asignamos el valor correspondiente a 'XX' según el valor de 'Type'\n",
    "    if df_new.loc[i, 'Type'] == 1:\n",
    "        xx = '03'\n",
    "    elif df_new.loc[i, 'Type'] == 2:\n",
    "        xx = '04'\n",
    "    else:\n",
    "        xx = '99'  # ERROR CASE\n",
    "\n",
    "\n",
    "    yyy = str(df_new.loc[i, 'Stn'])\n",
    "\n",
    "    key = xx + yyy\n",
    "\n",
    "    if key in xx_yyy_counters:\n",
    "        xx_yyy_counters[key] += 1\n",
    "    else:\n",
    "        xx_yyy_counters[key] = 1\n",
    "\n",
    "    zz = f\"{xx_yyy_counters[key]:03}\"\n",
    "\n",
    "    key_values.append(xx + yyy + zz)\n",
    "\n",
    "df_new['Key'] = key_values"
   ]
  },
  {
   "cell_type": "code",
   "execution_count": null,
   "metadata": {},
   "outputs": [],
   "source": [
    "df_new"
   ]
  },
  {
   "cell_type": "code",
   "execution_count": null,
   "metadata": {},
   "outputs": [],
   "source": [
    "df_new = df_new[['Type', 'Key', 'Name', 'Stn', 'AOR', 'Nominal_HiLim', 'Nominal_HiLim1', 'Nominal_LoLim', 'Nominal_LoLim1', 'pScale EU_Hi', 'AlarmGrp']].copy()\n",
    "df_new['ICAddress'] = \"NaN\"\n"
   ]
  },
  {
   "cell_type": "code",
   "execution_count": null,
   "metadata": {},
   "outputs": [],
   "source": [
    "df_new"
   ]
  },
  {
   "attachments": {},
   "cell_type": "markdown",
   "metadata": {},
   "source": [
    "Output Filename:"
   ]
  },
  {
   "cell_type": "code",
   "execution_count": null,
   "metadata": {},
   "outputs": [],
   "source": [
    "output_analog_name = 'AnalogOutput2.dat'"
   ]
  },
  {
   "cell_type": "code",
   "execution_count": null,
   "metadata": {},
   "outputs": [],
   "source": [
    "indent_format = \"{:<10}\" \n",
    "indent2 = \"{:1}\"\n",
    "type_format = \"{:<6}\"\n",
    "key_format = \"{:<8}\"\n",
    "name_format = \"{:<41}\"\n",
    "stn_format = \"{:<6}\"\n",
    "aor_format = \"{:<17}\"\n",
    "nominal_hilim_format = \"{:<16}\"\n",
    "nominal_hilim1_format = \"{:<16}\"\n",
    "nominal_lolim_format = \"{:<19}\"\n",
    "nominal_lolim1_format = \"{:<12}\"\n",
    "alarmgroup_format = \"{:<13}\"\n",
    "icaddress_format = \"{:<20}\"\n",
    "pscale_format = \"{:<15}\"\n",
    "eu_hi_format = \"{:<20}\"\n",
    "\n",
    "with open(output_analog_name, 'w') as f:\n",
    "   \n",
    "    f.write('*         Type  Key          Name                                          Stn   AOR                HiLim[0](High)   HiLim[1](Rsnblty)  LoLim[0](Low)   LoLim[1](Rsnblty)  AlarmGroup   pScale(EU_Hi)  ICAddress\\n')\n",
    "    f.write('*         ----  ---          ----                                          ---   ---                --------------   -----------------  -------------   -----------------  ----------   -------------  ---------\\n')\n",
    "    f.write('5 ANALOG  (1)   (3)          (4)                                           (5)   (10)               (77,0)           (77,4)             (78,0)          (78,4)             (42)         (24)           (66)\\n')\n",
    "\n",
    "    \n",
    "    for i in range(len(df_new)):\n",
    "        f.write(indent_format.format('') + \n",
    "                type_format.format(str(df_new.loc[i, 'Type'])) +\n",
    "                \"\\\"\" + key_format.format(df_new.loc[i, 'Key']) + \"\\\"\" +\n",
    "                indent2.format('') + \n",
    "                indent2.format('') + \n",
    "                indent2.format('') + \n",
    "                \"\\\"\" + name_format.format(df_new.loc[i, 'Name']) + \"\\\"\" +\n",
    "                indent2.format('')+\n",
    "                indent2.format('') + \n",
    "                indent2.format('') + \n",
    "                stn_format.format(str(df_new.loc[i, 'Stn'])) +\n",
    "                aor_format.format(str(df_new.loc[i, 'AOR'])) + \n",
    "                indent2.format('')+\n",
    "                indent2.format('') + \n",
    "                nominal_hilim1_format.format(str(df_new.loc[i, 'Nominal_HiLim1']))+\n",
    "                indent2.format('')+\n",
    "                nominal_hilim_format.format(str(df_new.loc[i, 'Nominal_HiLim'])) +\n",
    "                indent2.format('')+\n",
    "                indent2.format('')+\n",
    "                indent2.format('')+\n",
    "                nominal_lolim1_format.format(str(df_new.loc[i, 'Nominal_LoLim1']))+\n",
    "                \n",
    "                indent2.format('')+\n",
    "                indent2.format('')+\n",
    "                indent2.format('')+\n",
    "                indent2.format('')+\n",
    "                nominal_lolim_format.format(str(df_new.loc[i, 'Nominal_LoLim'])) +\n",
    "\n",
    "                alarmgroup_format.format(str(df_new.loc[i, 'AlarmGrp'])) +\n",
    "                pscale_format.format(df_new.loc[i, 'pScale EU_Hi']) +\n",
    "               \n",
    "                icaddress_format.format(df_new.loc[i, 'ICAddress']) + '\\n')"
   ]
  },
  {
   "cell_type": "code",
   "execution_count": null,
   "metadata": {},
   "outputs": [],
   "source": []
  }
 ],
 "metadata": {
  "kernelspec": {
   "display_name": "venv",
   "language": "python",
   "name": "python3"
  },
  "language_info": {
   "codemirror_mode": {
    "name": "ipython",
    "version": 3
   },
   "file_extension": ".py",
   "mimetype": "text/x-python",
   "name": "python",
   "nbconvert_exporter": "python",
   "pygments_lexer": "ipython3",
   "version": "3.10.0"
  },
  "orig_nbformat": 4
 },
 "nbformat": 4,
 "nbformat_minor": 2
}
